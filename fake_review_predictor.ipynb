{
 "cells": [
  {
   "cell_type": "markdown",
   "metadata": {},
   "source": [
    "# Import Nesessary Librries"
   ]
  },
  {
   "cell_type": "code",
   "execution_count": 1,
   "metadata": {},
   "outputs": [
    {
     "name": "stderr",
     "output_type": "stream",
     "text": [
      "/Users/uvaishnav/fake_product_review_detection/fakeenv/lib/python3.10/site-packages/tqdm/auto.py:21: TqdmWarning: IProgress not found. Please update jupyter and ipywidgets. See https://ipywidgets.readthedocs.io/en/stable/user_install.html\n",
      "  from .autonotebook import tqdm as notebook_tqdm\n"
     ]
    }
   ],
   "source": [
    "# Importing necessary libraries for data manipulation and analysis\n",
    "\n",
    "import numpy as np  # For numerical operations\n",
    "import pandas as pd  # For data manipulation and analysis\n",
    "\n",
    "# Importing libraries for deep learning model creation and training\n",
    "import tensorflow as tf  # TensorFlow for deep learning\n",
    "from tensorflow.keras.models import Sequential  # Sequential model\n",
    "from tensorflow.keras.layers import Embedding, LSTM, Dense, Dropout  # Layers for the model\n",
    "from tensorflow.keras.optimizers import Adam  # Optimizer for the model\n",
    "from tensorflow.keras.callbacks import EarlyStopping # Callback for early stopping\n",
    "\n",
    "# Importing libraries for machine learning model evaluation\n",
    "from sklearn.model_selection import train_test_split  # For splitting data into train and test sets\n",
    "from sklearn.metrics import classification_report, accuracy_score  # For evaluating the model\n",
    "\n",
    "# Importing libraries for NLP and transformers\n",
    "from transformers import DistilBertTokenizer, DistilBertForSequenceClassification  # Tokenizer and model for sequence classification\n",
    "\n",
    "# Importing libraries for PyTorch\n",
    "import torch  # PyTorch for deep learning\n",
    "from torch.utils.data import DataLoader, Dataset  # DataLoader and Dataset for handling data\n",
    "\n",
    "# Importing libraries for visualization\n",
    "import matplotlib.pyplot as plt  # For plotting graphs\n",
    "\n",
    "# Importing libraries for handling JSON data\n",
    "import json  # For handling JSON data\n",
    "\n",
    "# Importing NLTK for natural language processing\n",
    "import nltk  # Natural Language Toolkit\n",
    "from nltk.corpus import stopwords # For removing stopwords\n",
    "from nltk.stem import WordNetLemmatizer # For lemmatizing words\n",
    "\n",
    "import joblib  # For saving and loading models"
   ]
  },
  {
   "cell_type": "markdown",
   "metadata": {},
   "source": [
    "## NLTK Recourses for preprocessing"
   ]
  },
  {
   "cell_type": "code",
   "execution_count": 2,
   "metadata": {},
   "outputs": [
    {
     "name": "stderr",
     "output_type": "stream",
     "text": [
      "[nltk_data] Downloading package stopwords to\n",
      "[nltk_data]     /Users/uvaishnav/nltk_data...\n",
      "[nltk_data]   Package stopwords is already up-to-date!\n",
      "[nltk_data] Downloading package wordnet to\n",
      "[nltk_data]     /Users/uvaishnav/nltk_data...\n",
      "[nltk_data]   Package wordnet is already up-to-date!\n",
      "[nltk_data] Downloading package omw-1.4 to\n",
      "[nltk_data]     /Users/uvaishnav/nltk_data...\n",
      "[nltk_data]   Package omw-1.4 is already up-to-date!\n"
     ]
    },
    {
     "data": {
      "text/plain": [
       "True"
      ]
     },
     "execution_count": 2,
     "metadata": {},
     "output_type": "execute_result"
    }
   ],
   "source": [
    "nltk.download('stopwords') # Downloads the list of stopwords, which are common words that are usually removed in text preprocessing.\n",
    "nltk.download('wordnet') # Downloads the WordNet lexical database, which is used for finding synonyms, antonyms, and other lexical relations.\n",
    "nltk.download('omw-1.4') # Downloads the Open Multilingual Wordnet package, which provides multilingual WordNet data."
   ]
  },
  {
   "cell_type": "code",
   "execution_count": 3,
   "metadata": {},
   "outputs": [
    {
     "name": "stdout",
     "output_type": "stream",
     "text": [
      "unzip:  cannot find or open /usr/share/nltk_data/corpora/wordnet.zip, /usr/share/nltk_data/corpora/wordnet.zip.zip or /usr/share/nltk_data/corpora/wordnet.zip.ZIP.\n"
     ]
    }
   ],
   "source": [
    "!unzip /usr/share/nltk_data/corpora/wordnet.zip -d /usr/share/nltk_data/corpora/ # Unzips the WordNet data"
   ]
  },
  {
   "cell_type": "markdown",
   "metadata": {},
   "source": [
    "# Load Dataset"
   ]
  },
  {
   "cell_type": "code",
   "execution_count": 4,
   "metadata": {},
   "outputs": [
    {
     "data": {
      "text/html": [
       "<div>\n",
       "<style scoped>\n",
       "    .dataframe tbody tr th:only-of-type {\n",
       "        vertical-align: middle;\n",
       "    }\n",
       "\n",
       "    .dataframe tbody tr th {\n",
       "        vertical-align: top;\n",
       "    }\n",
       "\n",
       "    .dataframe thead th {\n",
       "        text-align: right;\n",
       "    }\n",
       "</style>\n",
       "<table border=\"1\" class=\"dataframe\">\n",
       "  <thead>\n",
       "    <tr style=\"text-align: right;\">\n",
       "      <th></th>\n",
       "      <th>category</th>\n",
       "      <th>rating</th>\n",
       "      <th>label</th>\n",
       "      <th>text_</th>\n",
       "    </tr>\n",
       "  </thead>\n",
       "  <tbody>\n",
       "    <tr>\n",
       "      <th>0</th>\n",
       "      <td>Home_and_Kitchen_5</td>\n",
       "      <td>5.0</td>\n",
       "      <td>CG</td>\n",
       "      <td>Love this!  Well made, sturdy, and very comfor...</td>\n",
       "    </tr>\n",
       "    <tr>\n",
       "      <th>1</th>\n",
       "      <td>Home_and_Kitchen_5</td>\n",
       "      <td>5.0</td>\n",
       "      <td>CG</td>\n",
       "      <td>love it, a great upgrade from the original.  I...</td>\n",
       "    </tr>\n",
       "    <tr>\n",
       "      <th>2</th>\n",
       "      <td>Home_and_Kitchen_5</td>\n",
       "      <td>5.0</td>\n",
       "      <td>CG</td>\n",
       "      <td>This pillow saved my back. I love the look and...</td>\n",
       "    </tr>\n",
       "    <tr>\n",
       "      <th>3</th>\n",
       "      <td>Home_and_Kitchen_5</td>\n",
       "      <td>1.0</td>\n",
       "      <td>CG</td>\n",
       "      <td>Missing information on how to use it, but it i...</td>\n",
       "    </tr>\n",
       "    <tr>\n",
       "      <th>4</th>\n",
       "      <td>Home_and_Kitchen_5</td>\n",
       "      <td>5.0</td>\n",
       "      <td>CG</td>\n",
       "      <td>Very nice set. Good quality. We have had the s...</td>\n",
       "    </tr>\n",
       "  </tbody>\n",
       "</table>\n",
       "</div>"
      ],
      "text/plain": [
       "             category  rating label  \\\n",
       "0  Home_and_Kitchen_5     5.0    CG   \n",
       "1  Home_and_Kitchen_5     5.0    CG   \n",
       "2  Home_and_Kitchen_5     5.0    CG   \n",
       "3  Home_and_Kitchen_5     1.0    CG   \n",
       "4  Home_and_Kitchen_5     5.0    CG   \n",
       "\n",
       "                                               text_  \n",
       "0  Love this!  Well made, sturdy, and very comfor...  \n",
       "1  love it, a great upgrade from the original.  I...  \n",
       "2  This pillow saved my back. I love the look and...  \n",
       "3  Missing information on how to use it, but it i...  \n",
       "4  Very nice set. Good quality. We have had the s...  "
      ]
     },
     "execution_count": 4,
     "metadata": {},
     "output_type": "execute_result"
    }
   ],
   "source": [
    "data = pd.read_csv(\"fake reviews dataset.csv\")\n",
    "data.head() # Displays the first few rows of the dataset"
   ]
  },
  {
   "cell_type": "markdown",
   "metadata": {},
   "source": [
    "# Cleaning Data"
   ]
  },
  {
   "cell_type": "code",
   "execution_count": 5,
   "metadata": {},
   "outputs": [],
   "source": [
    "data.drop(columns = {'category'}, inplace = True)"
   ]
  },
  {
   "cell_type": "code",
   "execution_count": 6,
   "metadata": {},
   "outputs": [],
   "source": [
    "data.rename(columns = {'text_': 'text'}, inplace = True) "
   ]
  },
  {
   "cell_type": "code",
   "execution_count": 7,
   "metadata": {},
   "outputs": [
    {
     "data": {
      "text/html": [
       "<div>\n",
       "<style scoped>\n",
       "    .dataframe tbody tr th:only-of-type {\n",
       "        vertical-align: middle;\n",
       "    }\n",
       "\n",
       "    .dataframe tbody tr th {\n",
       "        vertical-align: top;\n",
       "    }\n",
       "\n",
       "    .dataframe thead th {\n",
       "        text-align: right;\n",
       "    }\n",
       "</style>\n",
       "<table border=\"1\" class=\"dataframe\">\n",
       "  <thead>\n",
       "    <tr style=\"text-align: right;\">\n",
       "      <th></th>\n",
       "      <th>rating</th>\n",
       "      <th>label</th>\n",
       "      <th>text</th>\n",
       "    </tr>\n",
       "  </thead>\n",
       "  <tbody>\n",
       "    <tr>\n",
       "      <th>0</th>\n",
       "      <td>5.0</td>\n",
       "      <td>CG</td>\n",
       "      <td>Love this!  Well made, sturdy, and very comfor...</td>\n",
       "    </tr>\n",
       "    <tr>\n",
       "      <th>1</th>\n",
       "      <td>5.0</td>\n",
       "      <td>CG</td>\n",
       "      <td>love it, a great upgrade from the original.  I...</td>\n",
       "    </tr>\n",
       "    <tr>\n",
       "      <th>2</th>\n",
       "      <td>5.0</td>\n",
       "      <td>CG</td>\n",
       "      <td>This pillow saved my back. I love the look and...</td>\n",
       "    </tr>\n",
       "    <tr>\n",
       "      <th>3</th>\n",
       "      <td>1.0</td>\n",
       "      <td>CG</td>\n",
       "      <td>Missing information on how to use it, but it i...</td>\n",
       "    </tr>\n",
       "    <tr>\n",
       "      <th>4</th>\n",
       "      <td>5.0</td>\n",
       "      <td>CG</td>\n",
       "      <td>Very nice set. Good quality. We have had the s...</td>\n",
       "    </tr>\n",
       "  </tbody>\n",
       "</table>\n",
       "</div>"
      ],
      "text/plain": [
       "   rating label                                               text\n",
       "0     5.0    CG  Love this!  Well made, sturdy, and very comfor...\n",
       "1     5.0    CG  love it, a great upgrade from the original.  I...\n",
       "2     5.0    CG  This pillow saved my back. I love the look and...\n",
       "3     1.0    CG  Missing information on how to use it, but it i...\n",
       "4     5.0    CG  Very nice set. Good quality. We have had the s..."
      ]
     },
     "execution_count": 7,
     "metadata": {},
     "output_type": "execute_result"
    }
   ],
   "source": [
    "data.head()"
   ]
  },
  {
   "cell_type": "code",
   "execution_count": 8,
   "metadata": {},
   "outputs": [],
   "source": [
    "def encode_label(df):\n",
    "    labels = {\n",
    "        'CG': 0,\n",
    "        'OR': 1\n",
    "    }\n",
    "    \n",
    "    df['target'] = df['label'].map(labels)\n",
    "    \n",
    "    return df"
   ]
  },
  {
   "cell_type": "code",
   "execution_count": 9,
   "metadata": {},
   "outputs": [],
   "source": [
    "data = encode_label(data)\n",
    "data = encode_label(data)\n",
    "\n",
    "# Fill any NaN values in the 'target' column with 0 and replace any infinite values with 0\n",
    "data['target'] = data['target'].fillna(0).replace([np.inf, -np.inf], 0)\n",
    "\n",
    "# Convert the 'target' column to integer type\n",
    "data['target'] = data['target'].astype(int)"
   ]
  },
  {
   "cell_type": "code",
   "execution_count": 10,
   "metadata": {},
   "outputs": [],
   "source": [
    "data.drop(columns = {'rating', 'label'}, inplace = True)"
   ]
  },
  {
   "cell_type": "code",
   "execution_count": 11,
   "metadata": {},
   "outputs": [
    {
     "data": {
      "text/html": [
       "<div>\n",
       "<style scoped>\n",
       "    .dataframe tbody tr th:only-of-type {\n",
       "        vertical-align: middle;\n",
       "    }\n",
       "\n",
       "    .dataframe tbody tr th {\n",
       "        vertical-align: top;\n",
       "    }\n",
       "\n",
       "    .dataframe thead th {\n",
       "        text-align: right;\n",
       "    }\n",
       "</style>\n",
       "<table border=\"1\" class=\"dataframe\">\n",
       "  <thead>\n",
       "    <tr style=\"text-align: right;\">\n",
       "      <th></th>\n",
       "      <th>text</th>\n",
       "      <th>target</th>\n",
       "    </tr>\n",
       "  </thead>\n",
       "  <tbody>\n",
       "    <tr>\n",
       "      <th>0</th>\n",
       "      <td>We had 3 of these someone gave us for xmas, or...</td>\n",
       "      <td>1</td>\n",
       "    </tr>\n",
       "    <tr>\n",
       "      <th>1</th>\n",
       "      <td>Sad that catholics in america, who have eaten ...</td>\n",
       "      <td>1</td>\n",
       "    </tr>\n",
       "    <tr>\n",
       "      <th>2</th>\n",
       "      <td>This is just what I needed. The only problem i...</td>\n",
       "      <td>0</td>\n",
       "    </tr>\n",
       "    <tr>\n",
       "      <th>3</th>\n",
       "      <td>YOU WILL NOT FIND A LOT OF TURNERS. I saw a lo...</td>\n",
       "      <td>0</td>\n",
       "    </tr>\n",
       "    <tr>\n",
       "      <th>4</th>\n",
       "      <td>To my surprise this was much nicer than the tr...</td>\n",
       "      <td>1</td>\n",
       "    </tr>\n",
       "  </tbody>\n",
       "</table>\n",
       "</div>"
      ],
      "text/plain": [
       "                                                text  target\n",
       "0  We had 3 of these someone gave us for xmas, or...       1\n",
       "1  Sad that catholics in america, who have eaten ...       1\n",
       "2  This is just what I needed. The only problem i...       0\n",
       "3  YOU WILL NOT FIND A LOT OF TURNERS. I saw a lo...       0\n",
       "4  To my surprise this was much nicer than the tr...       1"
      ]
     },
     "execution_count": 11,
     "metadata": {},
     "output_type": "execute_result"
    }
   ],
   "source": [
    "data = data.sample(frac=1).reset_index(drop=True)\n",
    "\n",
    "data.head()"
   ]
  },
  {
   "cell_type": "code",
   "execution_count": 12,
   "metadata": {},
   "outputs": [
    {
     "data": {
      "text/plain": [
       "text      0\n",
       "target    0\n",
       "dtype: int64"
      ]
     },
     "execution_count": 12,
     "metadata": {},
     "output_type": "execute_result"
    }
   ],
   "source": [
    "data.isnull().sum()"
   ]
  },
  {
   "cell_type": "code",
   "execution_count": 13,
   "metadata": {},
   "outputs": [
    {
     "data": {
      "text/plain": [
       "np.int64(20)"
      ]
     },
     "execution_count": 13,
     "metadata": {},
     "output_type": "execute_result"
    }
   ],
   "source": [
    "data.duplicated().sum()"
   ]
  },
  {
   "cell_type": "code",
   "execution_count": 14,
   "metadata": {},
   "outputs": [
    {
     "data": {
      "text/plain": [
       "np.int64(0)"
      ]
     },
     "execution_count": 14,
     "metadata": {},
     "output_type": "execute_result"
    }
   ],
   "source": [
    "data.drop_duplicates(inplace = True)\n",
    "data.duplicated().sum()"
   ]
  },
  {
   "cell_type": "code",
   "execution_count": 15,
   "metadata": {},
   "outputs": [
    {
     "data": {
      "text/plain": [
       "target\n",
       "1    20215\n",
       "0    20197\n",
       "Name: count, dtype: int64"
      ]
     },
     "execution_count": 15,
     "metadata": {},
     "output_type": "execute_result"
    }
   ],
   "source": [
    "data['target'].value_counts()"
   ]
  },
  {
   "cell_type": "code",
   "execution_count": 16,
   "metadata": {},
   "outputs": [
    {
     "data": {
      "image/png": "[encoded data removed]",
      "text/plain": [
       "<Figure size 640x480 with 1 Axes>"
      ]
     },
     "metadata": {},
     "output_type": "display_data"
    }
   ],
   "source": [
    "plt.pie(data['target'].value_counts(), labels = ['ORIGINAL', 'FAKE'], autopct = '%.2f%%', colors = ['skyblue', 'salmon'])\n",
    "plt.title('Distribution of Reviews')\n",
    "plt.show()"
   ]
  },
  {
   "cell_type": "markdown",
   "metadata": {},
   "source": [
    "# Preprocessing"
   ]
  },
  {
   "cell_type": "code",
   "execution_count": 17,
   "metadata": {},
   "outputs": [],
   "source": [
    "def clean_text(text):\n",
    "    \"\"\"\n",
    "    Cleans the input text by performing the following operations:\n",
    "    1. Converts the text to lowercase.\n",
    "    2. Removes all non-alphanumeric characters except spaces.\n",
    "    3. Removes stopwords (common words that do not contribute much meaning).\n",
    "    4. Lemmatizes the words (reduces words to their base or root form).\n",
    "\n",
    "    Args:\n",
    "        text (str): The input text to be cleaned.\n",
    "\n",
    "    Returns:\n",
    "        str: The cleaned text.\n",
    "    \"\"\"\n",
    "    lemmatizer = WordNetLemmatizer()\n",
    "    stop_words = set(stopwords.words('english'))\n",
    "    text = text.lower()\n",
    "    text = ''.join([c for c in text if c.isalnum() or c.isspace()])\n",
    "    text = ' '.join([lemmatizer.lemmatize(word) for word in text.split() if word not in stop_words])\n",
    "    return text"
   ]
  },
  {
   "cell_type": "code",
   "execution_count": 18,
   "metadata": {},
   "outputs": [],
   "source": [
    "data['text'] = data['text'].apply(clean_text)"
   ]
  },
  {
   "cell_type": "code",
   "execution_count": 19,
   "metadata": {},
   "outputs": [
    {
     "data": {
      "text/html": [
       "<div>\n",
       "<style scoped>\n",
       "    .dataframe tbody tr th:only-of-type {\n",
       "        vertical-align: middle;\n",
       "    }\n",
       "\n",
       "    .dataframe tbody tr th {\n",
       "        vertical-align: top;\n",
       "    }\n",
       "\n",
       "    .dataframe thead th {\n",
       "        text-align: right;\n",
       "    }\n",
       "</style>\n",
       "<table border=\"1\" class=\"dataframe\">\n",
       "  <thead>\n",
       "    <tr style=\"text-align: right;\">\n",
       "      <th></th>\n",
       "      <th>text</th>\n",
       "      <th>target</th>\n",
       "    </tr>\n",
       "  </thead>\n",
       "  <tbody>\n",
       "    <tr>\n",
       "      <th>0</th>\n",
       "      <td>3 someone gave u xmas wtvr long time ago tosse...</td>\n",
       "      <td>1</td>\n",
       "    </tr>\n",
       "    <tr>\n",
       "      <th>1</th>\n",
       "      <td>sad catholic america eaten heartily protestant...</td>\n",
       "      <td>1</td>\n",
       "    </tr>\n",
       "    <tr>\n",
       "      <th>2</th>\n",
       "      <td>needed problem kind hard put bottom top</td>\n",
       "      <td>0</td>\n",
       "    </tr>\n",
       "    <tr>\n",
       "      <th>3</th>\n",
       "      <td>find lot turner saw lot review</td>\n",
       "      <td>0</td>\n",
       "    </tr>\n",
       "    <tr>\n",
       "      <th>4</th>\n",
       "      <td>surprise much nicer true spec much better stit...</td>\n",
       "      <td>1</td>\n",
       "    </tr>\n",
       "  </tbody>\n",
       "</table>\n",
       "</div>"
      ],
      "text/plain": [
       "                                                text  target\n",
       "0  3 someone gave u xmas wtvr long time ago tosse...       1\n",
       "1  sad catholic america eaten heartily protestant...       1\n",
       "2            needed problem kind hard put bottom top       0\n",
       "3                     find lot turner saw lot review       0\n",
       "4  surprise much nicer true spec much better stit...       1"
      ]
     },
     "execution_count": 19,
     "metadata": {},
     "output_type": "execute_result"
    }
   ],
   "source": [
    "data.head()"
   ]
  },
  {
   "cell_type": "markdown",
   "metadata": {},
   "source": [
    "## Split the Dataset"
   ]
  },
  {
   "cell_type": "code",
   "execution_count": 20,
   "metadata": {},
   "outputs": [],
   "source": [
    "# Split the dataset into training and testing sets\n",
    "train_texts, test_texts, train_labels, test_labels = train_test_split(\n",
    "    data['text'], data['target'], test_size=0.2, random_state=42\n",
    ")\n",
    "\n",
    "# Further split the testing set into validation and testing sets\n",
    "val_texts, test_texts, val_labels, test_labels = train_test_split(\n",
    "    test_texts, test_labels, test_size=0.5, random_state=42\n",
    ")"
   ]
  },
  {
   "cell_type": "markdown",
   "metadata": {},
   "source": [
    "# Tokenization"
   ]
  },
  {
   "cell_type": "markdown",
   "metadata": {},
   "source": [
    "### parameters for the tokenizer"
   ]
  },
  {
   "cell_type": "code",
   "execution_count": 21,
   "metadata": {},
   "outputs": [],
   "source": [
    "# Define the maximum vocabulary size for the tokenizer\n",
    "max_vocab_size = 10000\n",
    "\n",
    "# Define the maximum sequence length for the input sequences\n",
    "max_sequence_length = 100"
   ]
  },
  {
   "cell_type": "code",
   "execution_count": 22,
   "metadata": {},
   "outputs": [
    {
     "data": {
      "text/plain": [
       "['lstm_tokenizer.pkl']"
      ]
     },
     "execution_count": 22,
     "metadata": {},
     "output_type": "execute_result"
    }
   ],
   "source": [
    "# Initialize the tokenizer with a maximum vocabulary size and an out-of-vocabulary token\n",
    "lstm_tokenizer = tf.keras.preprocessing.text.Tokenizer(num_words=max_vocab_size, oov_token=\"<OOV>\")\n",
    "\n",
    "# Fit the tokenizer on the training texts\n",
    "lstm_tokenizer.fit_on_texts(train_texts)\n",
    "\n",
    "# Save the tokenizer to a file\n",
    "joblib.dump(lstm_tokenizer, 'lstm_tokenizer.pkl')"
   ]
  },
  {
   "cell_type": "code",
   "execution_count": 23,
   "metadata": {},
   "outputs": [],
   "source": [
    "# Convert the training texts to sequences of integers\n",
    "train_sequences = lstm_tokenizer.texts_to_sequences(train_texts)\n",
    "test_sequences = lstm_tokenizer.texts_to_sequences(test_texts)\n",
    "val_sequences = lstm_tokenizer.texts_to_sequences(val_texts)\n",
    "\n",
    "# Pad the sequences to ensure that they are all the same length\n",
    "train_padded = tf.keras.preprocessing.sequence.pad_sequences(train_sequences, maxlen=max_sequence_length, padding='post', truncating='post')\n",
    "test_padded = tf.keras.preprocessing.sequence.pad_sequences(test_sequences, maxlen=max_sequence_length, padding='post', truncating='post')\n",
    "val_padded = tf.keras.preprocessing.sequence.pad_sequences(val_sequences, maxlen=max_sequence_length, padding='post', truncating='post')"
   ]
  },
  {
   "cell_type": "markdown",
   "metadata": {},
   "source": [
    "# Train Model"
   ]
  },
  {
   "cell_type": "markdown",
   "metadata": {},
   "source": [
    "### Hyperparameter search space for LSTM"
   ]
  },
  {
   "cell_type": "code",
   "execution_count": 24,
   "metadata": {},
   "outputs": [],
   "source": [
    "learning_rates = [1e-3, 1e-4, 1e-5]\n",
    "batch_sizes = [16, 32, 64]\n",
    "dropout_rates = [0.2, 0.3, 0.5]"
   ]
  },
  {
   "cell_type": "markdown",
   "metadata": {},
   "source": [
    "### Define the EarlyStopping callback"
   ]
  },
  {
   "cell_type": "code",
   "execution_count": 25,
   "metadata": {},
   "outputs": [],
   "source": [
    "early_stopping = EarlyStopping(\n",
    "        monitor='val_loss',  # Monitor validation loss\n",
    "        patience=5,          # Number of epochs with no improvement after which training will be stopped\n",
    "        restore_best_weights=True  # Restore the weights of the epoch with the best validation loss\n",
    "    )"
   ]
  },
  {
   "cell_type": "markdown",
   "metadata": {},
   "source": [
    "### Getting subset of the Dataset for hyperparameter tuning"
   ]
  },
  {
   "cell_type": "code",
   "execution_count": 26,
   "metadata": {},
   "outputs": [],
   "source": [
    "def get_tuning_subset(X_train, y_train, X_val, y_val, X_test, y_test, subset_size=0.10):\n",
    "    \"\"\"\n",
    "    Creates a smaller subset of the training, validation, and test sets for hyperparameter tuning,\n",
    "    while preserving class distributions.\n",
    "\n",
    "    Args:\n",
    "        X_train, y_train: Training data and labels.\n",
    "        X_val, y_val: Validation data and labels.\n",
    "        X_test, y_test: Test data and labels.\n",
    "        subset_size: The fraction of data to include in the subset (e.g., 0.1 for 10%).\n",
    "\n",
    "    Returns:\n",
    "        X_train_subset, y_train_subset, X_val_subset, y_val_subset, X_test_subset, y_test_subset\n",
    "    \"\"\"\n",
    "\n",
    "    X_train_subset, _, y_train_subset, _ = train_test_split(\n",
    "        X_train, y_train, train_size=subset_size, stratify=y_train, random_state=42\n",
    "    )\n",
    "\n",
    "    X_val_subset, _, y_val_subset, _ = train_test_split(\n",
    "        X_val, y_val, train_size=subset_size, stratify=y_val, random_state=42\n",
    "    )\n",
    "\n",
    "    X_test_subset, _, y_test_subset, _ = train_test_split(\n",
    "        X_test, y_test, train_size=subset_size, stratify=y_test, random_state=42\n",
    "    )\n",
    "\n",
    "    return X_train_subset, y_train_subset, X_val_subset, y_val_subset, X_test_subset, y_test_subset\n"
   ]
  },
  {
   "cell_type": "code",
   "execution_count": 27,
   "metadata": {},
   "outputs": [],
   "source": [
    "X_train_sub, y_train_sub, X_val_sub, y_val_sub, X_test_sub, y_test_sub = get_tuning_subset(\n",
    "    train_padded, train_labels, val_padded, val_labels, test_padded, test_labels\n",
    ")"
   ]
  },
  {
   "cell_type": "markdown",
   "metadata": {},
   "source": [
    "### Experimentation function for LSTM"
   ]
  },
  {
   "cell_type": "code",
   "execution_count": 28,
   "metadata": {},
   "outputs": [],
   "source": [
    "def tune_lstm_model(lr, batch_size, dropout_rate):\n",
    "    \"\"\"\n",
    "    Tunes an LSTM model with the given hyperparameters and evaluates its performance.\n",
    "\n",
    "    Args:\n",
    "        lr (float): Learning rate for the optimizer.\n",
    "        batch_size (int): Batch size for training.\n",
    "        dropout_rate (float): Dropout rate for regularization.\n",
    "\n",
    "    Returns:\n",
    "        dict: Classification report containing precision, recall, f1-score, and support for each class.\n",
    "    \"\"\"\n",
    "    # Define the LSTM model architecture\n",
    "    lstm_model = Sequential([\n",
    "        # Embedding layer to convert input sequences into dense vectors of fixed size\n",
    "        Embedding(input_dim=max_vocab_size, output_dim=128, input_length=max_sequence_length),\n",
    "        # First LSTM layer with 128 units, returning sequences for the next LSTM layer\n",
    "        LSTM(128, return_sequences=True),\n",
    "        # Dropout layer for regularization to prevent overfitting\n",
    "        Dropout(dropout_rate),\n",
    "        # Second LSTM layer with 64 units\n",
    "        LSTM(64),\n",
    "        # Dropout layer for regularization\n",
    "        Dropout(dropout_rate),\n",
    "        # Dense layer with 32 units and ReLU activation\n",
    "        Dense(32, activation='relu'),\n",
    "        # Output layer with 2 units (for 2 classes) and softmax activation\n",
    "        Dense(2, activation='softmax')\n",
    "    ])\n",
    "    \n",
    "    # Compile the model with Adam optimizer, sparse categorical crossentropy loss, and accuracy metric\n",
    "    lstm_model.compile(optimizer=Adam(learning_rate=lr), \n",
    "                       loss='sparse_categorical_crossentropy', metrics=['accuracy'])\n",
    "    \n",
    "    # Train the model on the training data and validate on the validation data\n",
    "    lstm_model.fit(X_train_sub, y_train_sub, validation_data=(X_val_sub, y_val_sub), \n",
    "                   epochs=20, batch_size=batch_size, callbacks=[early_stopping])\n",
    "    \n",
    "    # Predict the labels for the test data\n",
    "    lstm_predictions = np.argmax(lstm_model.predict(X_test_sub), axis=1)\n",
    "    \n",
    "    # Return the classification report for the test data\n",
    "    return classification_report(y_test_sub, lstm_predictions, output_dict=True)"
   ]
  },
  {
   "cell_type": "markdown",
   "metadata": {},
   "source": [
    "### Run experiments for LSTM"
   ]
  },
  {
   "cell_type": "code",
   "execution_count": null,
   "metadata": {},
   "outputs": [],
   "source": [
    "# Initialize dictionaries to store results and track the best hyperparameters\n",
    "lstm_results = {}\n",
    "best_lstm_metrics = None\n",
    "best_lstm_hyperparameters = None\n",
    "\n",
    "# Iterate over all combinations of learning rates, batch sizes, and dropout rates\n",
    "for lr in learning_rates:\n",
    "    for batch_size in batch_sizes:\n",
    "        for dropout_rate in dropout_rates:\n",
    "            print(f\"Tuning LSTM: LR={lr}, Batch Size={batch_size}, Dropout={dropout_rate}\")\n",
    "            \n",
    "            # Tune the LSTM model with the current set of hyperparameters\n",
    "            result = tune_lstm_model(lr, batch_size, dropout_rate)\n",
    "            \n",
    "            # Store the result in the dictionary with the hyperparameters as the key\n",
    "            lstm_results[(lr, batch_size, dropout_rate)] = result\n",
    "            \n",
    "            # Calculate the average F1 score from the classification report\n",
    "            avg_f1_score = result['weighted avg']['f1-score']\n",
    "            \n",
    "            # Update the best metrics and hyperparameters if the current model is better\n",
    "            if best_lstm_metrics is None or avg_f1_score > best_lstm_metrics:\n",
    "                best_lstm_metrics = avg_f1_score\n",
    "                best_lstm_hyperparameters = (lr, batch_size, dropout_rate)"
   ]
  },
  {
   "cell_type": "markdown",
   "metadata": {},
   "source": [
    "### Summarize results for LSTM"
   ]
  },
  {
   "cell_type": "code",
   "execution_count": 30,
   "metadata": {},
   "outputs": [],
   "source": [
    "def summarize_results(results, model_name=\"LSTM\"):\n",
    "    \"\"\"\n",
    "    Summarizes the results of model experiments by printing the precision, recall, and F1-score\n",
    "    for each set of hyperparameters.\n",
    "\n",
    "    Args:\n",
    "        results (dict): A dictionary where keys are hyperparameter tuples and values are classification reports.\n",
    "        model_name (str): The name of the model being summarized (default is \"LSTM\").\n",
    "    \"\"\"\n",
    "    for key, value in results.items():\n",
    "        print(f\"Hyperparameters: {key} - {model_name}\")\n",
    "        print(f\"Precision: {value['weighted avg']['precision']:.4f}\")\n",
    "        print(f\"Recall: {value['weighted avg']['recall']:.4f}\")\n",
    "        print(f\"F1-score: {value['weighted avg']['f1-score']:.4f}\")\n",
    "        print(\"-\" * 50)"
   ]
  },
  {
   "cell_type": "code",
   "execution_count": 31,
   "metadata": {},
   "outputs": [
    {
     "name": "stdout",
     "output_type": "stream",
     "text": [
      "Hyperparameters: (0.001, 16, 0.2) - LSTM\n",
      "Precision: 0.8446\n",
      "Recall: 0.8441\n",
      "F1-score: 0.8439\n",
      "--------------------------------------------------\n",
      "Hyperparameters: (0.001, 16, 0.3) - LSTM\n",
      "Precision: 0.8236\n",
      "Recall: 0.8168\n",
      "F1-score: 0.8156\n",
      "--------------------------------------------------\n",
      "Hyperparameters: (0.001, 16, 0.5) - LSTM\n",
      "Precision: 0.2426\n",
      "Recall: 0.4926\n",
      "F1-score: 0.3251\n",
      "--------------------------------------------------\n",
      "Hyperparameters: (0.001, 32, 0.2) - LSTM\n",
      "Precision: 0.7591\n",
      "Recall: 0.7550\n",
      "F1-score: 0.7536\n",
      "--------------------------------------------------\n",
      "Hyperparameters: (0.001, 32, 0.3) - LSTM\n",
      "Precision: 0.7872\n",
      "Recall: 0.7178\n",
      "F1-score: 0.6981\n",
      "--------------------------------------------------\n",
      "Hyperparameters: (0.001, 32, 0.5) - LSTM\n",
      "Precision: 0.8213\n",
      "Recall: 0.8193\n",
      "F1-score: 0.8192\n",
      "--------------------------------------------------\n",
      "Hyperparameters: (0.001, 64, 0.2) - LSTM\n",
      "Precision: 0.7929\n",
      "Recall: 0.7921\n",
      "F1-score: 0.7918\n",
      "--------------------------------------------------\n",
      "Hyperparameters: (0.001, 64, 0.3) - LSTM\n",
      "Precision: 0.7213\n",
      "Recall: 0.7153\n",
      "F1-score: 0.7128\n",
      "--------------------------------------------------\n",
      "Hyperparameters: (0.001, 64, 0.5) - LSTM\n",
      "Precision: 0.6292\n",
      "Recall: 0.6114\n",
      "F1-score: 0.6001\n",
      "--------------------------------------------------\n",
      "Hyperparameters: (0.0001, 16, 0.2) - LSTM\n",
      "Precision: 0.7651\n",
      "Recall: 0.6238\n",
      "F1-score: 0.5623\n",
      "--------------------------------------------------\n",
      "Hyperparameters: (0.0001, 16, 0.3) - LSTM\n",
      "Precision: 0.8074\n",
      "Recall: 0.7624\n",
      "F1-score: 0.7524\n",
      "--------------------------------------------------\n",
      "Hyperparameters: (0.0001, 16, 0.5) - LSTM\n",
      "Precision: 0.7523\n",
      "Recall: 0.6906\n",
      "F1-score: 0.6686\n",
      "--------------------------------------------------\n",
      "Hyperparameters: (0.0001, 32, 0.2) - LSTM\n",
      "Precision: 0.8281\n",
      "Recall: 0.8069\n",
      "F1-score: 0.8033\n",
      "--------------------------------------------------\n",
      "Hyperparameters: (0.0001, 32, 0.3) - LSTM\n",
      "Precision: 0.7824\n",
      "Recall: 0.6609\n",
      "F1-score: 0.6173\n",
      "--------------------------------------------------\n",
      "Hyperparameters: (0.0001, 32, 0.5) - LSTM\n",
      "Precision: 0.7830\n",
      "Recall: 0.7228\n",
      "F1-score: 0.7058\n",
      "--------------------------------------------------\n",
      "Hyperparameters: (0.0001, 64, 0.2) - LSTM\n",
      "Precision: 0.8248\n",
      "Recall: 0.8193\n",
      "F1-score: 0.8183\n",
      "--------------------------------------------------\n",
      "Hyperparameters: (0.0001, 64, 0.3) - LSTM\n",
      "Precision: 0.8228\n",
      "Recall: 0.8218\n",
      "F1-score: 0.8215\n",
      "--------------------------------------------------\n",
      "Hyperparameters: (0.0001, 64, 0.5) - LSTM\n",
      "Precision: 0.7280\n",
      "Recall: 0.6881\n",
      "F1-score: 0.6722\n",
      "--------------------------------------------------\n",
      "Hyperparameters: (1e-05, 16, 0.2) - LSTM\n",
      "Precision: 0.7878\n",
      "Recall: 0.7797\n",
      "F1-score: 0.7777\n",
      "--------------------------------------------------\n",
      "Hyperparameters: (1e-05, 16, 0.3) - LSTM\n",
      "Precision: 0.7891\n",
      "Recall: 0.7871\n",
      "F1-score: 0.7866\n",
      "--------------------------------------------------\n",
      "Hyperparameters: (1e-05, 16, 0.5) - LSTM\n",
      "Precision: 0.7116\n",
      "Recall: 0.5470\n",
      "F1-score: 0.4307\n",
      "--------------------------------------------------\n",
      "Hyperparameters: (1e-05, 32, 0.2) - LSTM\n",
      "Precision: 0.6684\n",
      "Recall: 0.5990\n",
      "F1-score: 0.5483\n",
      "--------------------------------------------------\n",
      "Hyperparameters: (1e-05, 32, 0.3) - LSTM\n",
      "Precision: 0.5961\n",
      "Recall: 0.5421\n",
      "F1-score: 0.4563\n",
      "--------------------------------------------------\n",
      "Hyperparameters: (1e-05, 32, 0.5) - LSTM\n",
      "Precision: 0.6468\n",
      "Recall: 0.5520\n",
      "F1-score: 0.4576\n",
      "--------------------------------------------------\n",
      "Hyperparameters: (1e-05, 64, 0.2) - LSTM\n",
      "Precision: 0.6190\n",
      "Recall: 0.5470\n",
      "F1-score: 0.4570\n",
      "--------------------------------------------------\n",
      "Hyperparameters: (1e-05, 64, 0.3) - LSTM\n",
      "Precision: 0.6001\n",
      "Recall: 0.5421\n",
      "F1-score: 0.4537\n",
      "--------------------------------------------------\n",
      "Hyperparameters: (1e-05, 64, 0.5) - LSTM\n",
      "Precision: 0.6138\n",
      "Recall: 0.5470\n",
      "F1-score: 0.4596\n",
      "--------------------------------------------------\n"
     ]
    }
   ],
   "source": [
    "summarize_results(lstm_results, model_name=\"LSTM\")"
   ]
  },
  {
   "cell_type": "markdown",
   "metadata": {},
   "source": [
    "#### Display best results for LSTM\n"
   ]
  },
  {
   "cell_type": "code",
   "execution_count": 32,
   "metadata": {},
   "outputs": [
    {
     "name": "stdout",
     "output_type": "stream",
     "text": [
      "Best LSTM Hyperparameters: (0.001, 16, 0.2)\n",
      "Best LSTM F1-Score: 0.8439302455562905\n"
     ]
    }
   ],
   "source": [
    "print(\"Best LSTM Hyperparameters:\", best_lstm_hyperparameters)\n",
    "print(\"Best LSTM F1-Score:\", best_lstm_metrics)"
   ]
  },
  {
   "cell_type": "markdown",
   "metadata": {},
   "source": [
    "\n",
    "## Retrain LSTM model with best hyperparameters"
   ]
  },
  {
   "cell_type": "code",
   "execution_count": 33,
   "metadata": {},
   "outputs": [
    {
     "name": "stdout",
     "output_type": "stream",
     "text": [
      "Epoch 1/50\n"
     ]
    },
    {
     "name": "stderr",
     "output_type": "stream",
     "text": [
      "/Users/uvaishnav/fake_product_review_detection/fakeenv/lib/python3.10/site-packages/keras/src/layers/core/embedding.py:90: UserWarning: Argument `input_length` is deprecated. Just remove it.\n",
      "  warnings.warn(\n"
     ]
    },
    {
     "name": "stdout",
     "output_type": "stream",
     "text": [
      "\u001b[1m2021/2021\u001b[0m \u001b[32m━━━━━━━━━━━━━━━━━━━━\u001b[0m\u001b[37m\u001b[0m \u001b[1m154s\u001b[0m 76ms/step - accuracy: 0.5594 - loss: 0.6856 - val_accuracy: 0.8236 - val_loss: 0.4021\n",
      "Epoch 2/50\n",
      "\u001b[1m2021/2021\u001b[0m \u001b[32m━━━━━━━━━━━━━━━━━━━━\u001b[0m\u001b[37m\u001b[0m \u001b[1m141s\u001b[0m 70ms/step - accuracy: 0.8670 - loss: 0.3240 - val_accuracy: 0.8953 - val_loss: 0.2522\n",
      "Epoch 3/50\n",
      "\u001b[1m2021/2021\u001b[0m \u001b[32m━━━━━━━━━━━━━━━━━━━━\u001b[0m\u001b[37m\u001b[0m \u001b[1m135s\u001b[0m 67ms/step - accuracy: 0.9301 - loss: 0.1826 - val_accuracy: 0.9109 - val_loss: 0.2183\n",
      "Epoch 4/50\n",
      "\u001b[1m2021/2021\u001b[0m \u001b[32m━━━━━━━━━━━━━━━━━━━━\u001b[0m\u001b[37m\u001b[0m \u001b[1m136s\u001b[0m 67ms/step - accuracy: 0.9545 - loss: 0.1256 - val_accuracy: 0.9082 - val_loss: 0.2314\n",
      "Epoch 5/50\n",
      "\u001b[1m2021/2021\u001b[0m \u001b[32m━━━━━━━━━━━━━━━━━━━━\u001b[0m\u001b[37m\u001b[0m \u001b[1m154s\u001b[0m 76ms/step - accuracy: 0.9707 - loss: 0.0833 - val_accuracy: 0.9087 - val_loss: 0.2639\n",
      "Epoch 6/50\n",
      "\u001b[1m2021/2021\u001b[0m \u001b[32m━━━━━━━━━━━━━━━━━━━━\u001b[0m\u001b[37m\u001b[0m \u001b[1m142s\u001b[0m 70ms/step - accuracy: 0.9786 - loss: 0.0573 - val_accuracy: 0.9082 - val_loss: 0.3019\n",
      "Epoch 7/50\n",
      "\u001b[1m2021/2021\u001b[0m \u001b[32m━━━━━━━━━━━━━━━━━━━━\u001b[0m\u001b[37m\u001b[0m \u001b[1m145s\u001b[0m 72ms/step - accuracy: 0.9859 - loss: 0.0406 - val_accuracy: 0.9025 - val_loss: 0.3151\n",
      "Epoch 8/50\n",
      "\u001b[1m2021/2021\u001b[0m \u001b[32m━━━━━━━━━━━━━━━━━━━━\u001b[0m\u001b[37m\u001b[0m \u001b[1m154s\u001b[0m 76ms/step - accuracy: 0.9897 - loss: 0.0320 - val_accuracy: 0.9057 - val_loss: 0.3864\n"
     ]
    },
    {
     "data": {
      "text/plain": [
       "<keras.src.callbacks.history.History at 0x165dea170>"
      ]
     },
     "execution_count": 33,
     "metadata": {},
     "output_type": "execute_result"
    }
   ],
   "source": [
    "# Extract the best hyperparameters from the tuning results\n",
    "best_lr, best_batch_size, best_dropout_rate = best_lstm_hyperparameters\n",
    "\n",
    "# Define the LSTM model architecture using the best hyperparameters\n",
    "best_lstm_model = Sequential([\n",
    "    # Embedding layer to convert input sequences into dense vectors of fixed size\n",
    "    Embedding(input_dim=max_vocab_size, output_dim=128, input_length=max_sequence_length),\n",
    "    # First LSTM layer with 128 units, returning sequences for the next LSTM layer\n",
    "    LSTM(128, return_sequences=True),\n",
    "    # Dropout layer for regularization to prevent overfitting\n",
    "    Dropout(best_dropout_rate),\n",
    "    # Second LSTM layer with 64 units\n",
    "    LSTM(64),\n",
    "    # Dropout layer for regularization\n",
    "    Dropout(best_dropout_rate),\n",
    "    # Dense layer with 32 units and ReLU activation\n",
    "    Dense(32, activation='relu'),\n",
    "    # Output layer with 2 units (for 2 classes) and softmax activation\n",
    "    Dense(2, activation='softmax')\n",
    "])\n",
    "\n",
    "# Compile the model with Adam optimizer, sparse categorical crossentropy loss, and accuracy metric\n",
    "best_lstm_model.compile(optimizer=Adam(learning_rate=best_lr), \n",
    "                        loss='sparse_categorical_crossentropy', metrics=['accuracy'])\n",
    "\n",
    "# Train the model on the training data and validate on the validation data\n",
    "best_lstm_model.fit(train_padded, train_labels, validation_data=(val_padded, val_labels),\n",
    "                    epochs=50, batch_size=best_batch_size, callbacks=[early_stopping])"
   ]
  },
  {
   "cell_type": "markdown",
   "metadata": {},
   "source": [
    "### Save the best Model"
   ]
  },
  {
   "cell_type": "code",
   "execution_count": 34,
   "metadata": {},
   "outputs": [
    {
     "name": "stderr",
     "output_type": "stream",
     "text": [
      "WARNING:absl:You are saving your model as an HDF5 file via `model.save()` or `keras.saving.save_model(model)`. This file format is considered legacy. We recommend using instead the native Keras format, e.g. `model.save('my_model.keras')` or `keras.saving.save_model(model, 'my_model.keras')`. \n"
     ]
    }
   ],
   "source": [
    "best_lstm_model.save('best_lstm_model.h5')"
   ]
  },
  {
   "cell_type": "markdown",
   "metadata": {},
   "source": [
    "## Results"
   ]
  },
  {
   "cell_type": "code",
   "execution_count": 35,
   "metadata": {},
   "outputs": [
    {
     "name": "stdout",
     "output_type": "stream",
     "text": [
      "\u001b[1m127/127\u001b[0m \u001b[32m━━━━━━━━━━━━━━━━━━━━\u001b[0m\u001b[37m\u001b[0m \u001b[1m3s\u001b[0m 24ms/step\n"
     ]
    }
   ],
   "source": [
    "\n",
    "test_predicted_probs = best_lstm_model.predict(test_padded)\n",
    "\n",
    "# Get the predicted labels by finding the index of the maximum probability\n",
    "test_predicted_labels = np.argmax(test_predicted_probs, axis=1)"
   ]
  },
  {
   "cell_type": "code",
   "execution_count": 38,
   "metadata": {},
   "outputs": [
    {
     "name": "stdout",
     "output_type": "stream",
     "text": [
      "Classification Report:\n",
      "\n",
      "              precision    recall  f1-score   support\n",
      "\n",
      "    ORIGINAL       0.93      0.90      0.91      2052\n",
      "        FAKE       0.90      0.93      0.91      1990\n",
      "\n",
      "    accuracy                           0.91      4042\n",
      "   macro avg       0.91      0.91      0.91      4042\n",
      "weighted avg       0.91      0.91      0.91      4042\n",
      "\n"
     ]
    }
   ],
   "source": [
    "# Generate classification report\n",
    "\n",
    "report = classification_report(test_labels, test_predicted_labels, target_names=['ORIGINAL', 'FAKE'])\n",
    "\n",
    "# Display the classification report\n",
    "print(\"Classification Report:\\n\")\n",
    "print(report)"
   ]
  },
  {
   "cell_type": "code",
   "execution_count": 39,
   "metadata": {},
   "outputs": [
    {
     "name": "stdout",
     "output_type": "stream",
     "text": [
      "Accuracy 0.9104403760514597\n",
      "Precision 0.8955296404275996\n"
     ]
    }
   ],
   "source": [
    "from sklearn.metrics import precision_score\n",
    "\n",
    "print(\"Accuracy\", accuracy_score(test_labels, test_predicted_labels))\n",
    "print(\"Precision\", precision_score(test_labels, test_predicted_labels))"
   ]
  },
  {
   "cell_type": "code",
   "execution_count": 37,
   "metadata": {},
   "outputs": [
    {
     "name": "stdout",
     "output_type": "stream",
     "text": [
      "\n",
      "Confusion Matrix:\n",
      "\n"
     ]
    },
    {
     "data": {
      "image/png": "[encoded data removed]",
      "text/plain": [
       "<Figure size 640x480 with 2 Axes>"
      ]
     },
     "metadata": {},
     "output_type": "display_data"
    }
   ],
   "source": [
    "from sklearn.metrics import confusion_matrix, ConfusionMatrixDisplay\n",
    "\n",
    "# Generate Confusion Matrix\n",
    "cm = confusion_matrix(test_labels, test_predicted_labels)\n",
    "\n",
    "# Display the confusion matrix\n",
    "print(\"\\nConfusion Matrix:\\n\")\n",
    "disp = ConfusionMatrixDisplay(confusion_matrix=cm, display_labels=['ORIGINAL', 'FAKE'])\n",
    "disp.plot(cmap='Blues', xticks_rotation=45)\n",
    "plt.title('Confusion Matrix')\n",
    "plt.show()\n"
   ]
  }
 ],
 "metadata": {
  "kernelspec": {
   "display_name": "Python 3",
   "language": "python",
   "name": "python3"
  },
  "language_info": {
   "codemirror_mode": {
    "name": "ipython",
    "version": 3
   },
   "file_extension": ".py",
   "mimetype": "text/x-python",
   "name": "python",
   "nbconvert_exporter": "python",
   "pygments_lexer": "ipython3",
   "version": "3.10.16"
  }
 },
 "nbformat": 4,
 "nbformat_minor": 2
}
